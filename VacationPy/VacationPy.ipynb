{
 "cells": [
  {
   "cell_type": "markdown",
   "metadata": {},
   "source": [
    "# VacationPy\n",
    "----\n",
    "\n",
    "#### Note\n",
    "* Instructions have been included for each segment. You do not have to follow them exactly, but they are included to help you think through the steps."
   ]
  },
  {
   "cell_type": "code",
   "execution_count": 2,
   "metadata": {},
   "outputs": [],
   "source": [
    "# Dependencies and Setup\n",
    "import matplotlib.pyplot as plt\n",
    "import pandas as pd\n",
    "import numpy as np\n",
    "import requests\n",
    "import gmaps\n",
    "import os\n",
    "import csv\n",
    "import json\n",
    "from pandas.io.json import json_normalize\n",
    "from pprint import pprint\n",
    "\n",
    "# Import API key\n",
    "from api_keys import g_key\n",
    "\n"
   ]
  },
  {
   "cell_type": "markdown",
   "metadata": {},
   "source": [
    "### Store Part I results into DataFrame\n",
    "* Load the csv exported in Part I to a DataFrame"
   ]
  },
  {
   "cell_type": "code",
   "execution_count": 3,
   "metadata": {},
   "outputs": [
    {
     "data": {
      "text/html": [
       "<div>\n",
       "<style scoped>\n",
       "    .dataframe tbody tr th:only-of-type {\n",
       "        vertical-align: middle;\n",
       "    }\n",
       "\n",
       "    .dataframe tbody tr th {\n",
       "        vertical-align: top;\n",
       "    }\n",
       "\n",
       "    .dataframe thead th {\n",
       "        text-align: right;\n",
       "    }\n",
       "</style>\n",
       "<table border=\"1\" class=\"dataframe\">\n",
       "  <thead>\n",
       "    <tr style=\"text-align: right;\">\n",
       "      <th></th>\n",
       "      <th>CityID</th>\n",
       "      <th>City</th>\n",
       "      <th>Cloudiness</th>\n",
       "      <th>Country</th>\n",
       "      <th>Date</th>\n",
       "      <th>Humidity</th>\n",
       "      <th>Lat</th>\n",
       "      <th>Lng</th>\n",
       "      <th>Max temp</th>\n",
       "      <th>Wind Speed</th>\n",
       "    </tr>\n",
       "  </thead>\n",
       "  <tbody>\n",
       "    <tr>\n",
       "      <td>0</td>\n",
       "      <td>0</td>\n",
       "      <td>Parrita</td>\n",
       "      <td>75</td>\n",
       "      <td>CR</td>\n",
       "      <td>1580260753</td>\n",
       "      <td>94</td>\n",
       "      <td>9.52</td>\n",
       "      <td>-84.32</td>\n",
       "      <td>68.00</td>\n",
       "      <td>3.36</td>\n",
       "    </tr>\n",
       "    <tr>\n",
       "      <td>1</td>\n",
       "      <td>1</td>\n",
       "      <td>Pangnirtung</td>\n",
       "      <td>9</td>\n",
       "      <td>CA</td>\n",
       "      <td>1580260753</td>\n",
       "      <td>84</td>\n",
       "      <td>66.15</td>\n",
       "      <td>-65.71</td>\n",
       "      <td>-26.73</td>\n",
       "      <td>3.31</td>\n",
       "    </tr>\n",
       "    <tr>\n",
       "      <td>2</td>\n",
       "      <td>2</td>\n",
       "      <td>Constitucion</td>\n",
       "      <td>30</td>\n",
       "      <td>CL</td>\n",
       "      <td>1580260753</td>\n",
       "      <td>68</td>\n",
       "      <td>-35.33</td>\n",
       "      <td>-72.42</td>\n",
       "      <td>58.51</td>\n",
       "      <td>16.02</td>\n",
       "    </tr>\n",
       "    <tr>\n",
       "      <td>3</td>\n",
       "      <td>3</td>\n",
       "      <td>Saint-Philippe</td>\n",
       "      <td>90</td>\n",
       "      <td>RE</td>\n",
       "      <td>1580260753</td>\n",
       "      <td>64</td>\n",
       "      <td>-21.36</td>\n",
       "      <td>55.77</td>\n",
       "      <td>73.40</td>\n",
       "      <td>8.05</td>\n",
       "    </tr>\n",
       "    <tr>\n",
       "      <td>4</td>\n",
       "      <td>4</td>\n",
       "      <td>Jamestown</td>\n",
       "      <td>90</td>\n",
       "      <td>US</td>\n",
       "      <td>1580260754</td>\n",
       "      <td>92</td>\n",
       "      <td>42.10</td>\n",
       "      <td>-79.24</td>\n",
       "      <td>32.00</td>\n",
       "      <td>6.93</td>\n",
       "    </tr>\n",
       "  </tbody>\n",
       "</table>\n",
       "</div>"
      ],
      "text/plain": [
       "   CityID            City  Cloudiness Country        Date  Humidity    Lat  \\\n",
       "0       0         Parrita          75      CR  1580260753        94   9.52   \n",
       "1       1     Pangnirtung           9      CA  1580260753        84  66.15   \n",
       "2       2    Constitucion          30      CL  1580260753        68 -35.33   \n",
       "3       3  Saint-Philippe          90      RE  1580260753        64 -21.36   \n",
       "4       4       Jamestown          90      US  1580260754        92  42.10   \n",
       "\n",
       "     Lng  Max temp  Wind Speed  \n",
       "0 -84.32     68.00        3.36  \n",
       "1 -65.71    -26.73        3.31  \n",
       "2 -72.42     58.51       16.02  \n",
       "3  55.77     73.40        8.05  \n",
       "4 -79.24     32.00        6.93  "
      ]
     },
     "execution_count": 3,
     "metadata": {},
     "output_type": "execute_result"
    }
   ],
   "source": [
    "csv_path = \"/Users/khushbooshah/Desktop/My work/Homework/python-api-challenge/VacationPy/output_data2/weatherdata2.csv\"\n",
    "weather_data = pd.read_csv(csv_path)\n",
    "\n",
    "weather_data.head()"
   ]
  },
  {
   "cell_type": "markdown",
   "metadata": {},
   "source": [
    "### Humidity Heatmap\n",
    "* Configure gmaps.\n",
    "* Use the Lat and Lng as locations and Humidity as the weight.\n",
    "* Add Heatmap layer to map."
   ]
  },
  {
   "cell_type": "code",
   "execution_count": 4,
   "metadata": {},
   "outputs": [
    {
     "data": {
      "application/vnd.jupyter.widget-view+json": {
       "model_id": "b3b7f97fd5d740c4b363b1ffbbc5c94a",
       "version_major": 2,
       "version_minor": 0
      },
      "text/plain": [
       "Figure(layout=FigureLayout(height='420px'))"
      ]
     },
     "metadata": {},
     "output_type": "display_data"
    }
   ],
   "source": [
    "gmaps.configure(api_key=g_key)\n",
    "locations=weather_data[[\"Lat\",\"Lng\"]].astype(float)\n",
    "heat=weather_data[\"Humidity\"].astype(float)\n",
    "maxhumid=weather_data[\"Humidity\"].max()\n",
    "\n",
    "myheatmap = gmaps.figure()\n",
    "HeatLayer=gmaps.heatmap_layer(locations,weights=heat,max_intensity=maxhumid,point_radius=1,dissipating=False)\n",
    "myheatmap.add_layer(HeatLayer)\n",
    "myheatmap"
   ]
  },
  {
   "cell_type": "code",
   "execution_count": null,
   "metadata": {},
   "outputs": [],
   "source": [
    "\n"
   ]
  },
  {
   "cell_type": "markdown",
   "metadata": {},
   "source": [
    "### Create new DataFrame fitting weather criteria\n",
    "* Narrow down the cities to fit weather conditions.\n",
    "* Drop any rows will null values."
   ]
  },
  {
   "cell_type": "code",
   "execution_count": 5,
   "metadata": {},
   "outputs": [
    {
     "data": {
      "text/plain": [
       "5"
      ]
     },
     "execution_count": 5,
     "metadata": {},
     "output_type": "execute_result"
    }
   ],
   "source": [
    "NewData=weather_data.dropna(how=\"all\")\n",
    "NewData=NewData.loc[(NewData[\"Cloudiness\"] == 0) & (NewData[\"Wind Speed\"] < 10) & ((NewData[\"Max temp\"] > 70) & (NewData[\"Max temp\"] <= 80))]\n",
    "len(NewData)"
   ]
  },
  {
   "cell_type": "code",
   "execution_count": 6,
   "metadata": {},
   "outputs": [
    {
     "data": {
      "text/html": [
       "<div>\n",
       "<style scoped>\n",
       "    .dataframe tbody tr th:only-of-type {\n",
       "        vertical-align: middle;\n",
       "    }\n",
       "\n",
       "    .dataframe tbody tr th {\n",
       "        vertical-align: top;\n",
       "    }\n",
       "\n",
       "    .dataframe thead th {\n",
       "        text-align: right;\n",
       "    }\n",
       "</style>\n",
       "<table border=\"1\" class=\"dataframe\">\n",
       "  <thead>\n",
       "    <tr style=\"text-align: right;\">\n",
       "      <th></th>\n",
       "      <th>CityID</th>\n",
       "      <th>City</th>\n",
       "      <th>Cloudiness</th>\n",
       "      <th>Country</th>\n",
       "      <th>Date</th>\n",
       "      <th>Humidity</th>\n",
       "      <th>Lat</th>\n",
       "      <th>Lng</th>\n",
       "      <th>Max temp</th>\n",
       "      <th>Wind Speed</th>\n",
       "    </tr>\n",
       "  </thead>\n",
       "  <tbody>\n",
       "    <tr>\n",
       "      <td>5</td>\n",
       "      <td>5</td>\n",
       "      <td>Tomatlan</td>\n",
       "      <td>0</td>\n",
       "      <td>MX</td>\n",
       "      <td>1580260756</td>\n",
       "      <td>61</td>\n",
       "      <td>19.93</td>\n",
       "      <td>-105.25</td>\n",
       "      <td>74.71</td>\n",
       "      <td>3.71</td>\n",
       "    </tr>\n",
       "    <tr>\n",
       "      <td>175</td>\n",
       "      <td>175</td>\n",
       "      <td>Chiredzi</td>\n",
       "      <td>0</td>\n",
       "      <td>ZW</td>\n",
       "      <td>1580261321</td>\n",
       "      <td>71</td>\n",
       "      <td>-21.05</td>\n",
       "      <td>31.67</td>\n",
       "      <td>70.57</td>\n",
       "      <td>1.16</td>\n",
       "    </tr>\n",
       "    <tr>\n",
       "      <td>243</td>\n",
       "      <td>243</td>\n",
       "      <td>Rock Sound</td>\n",
       "      <td>0</td>\n",
       "      <td>BS</td>\n",
       "      <td>1580261331</td>\n",
       "      <td>73</td>\n",
       "      <td>24.90</td>\n",
       "      <td>-76.20</td>\n",
       "      <td>74.79</td>\n",
       "      <td>8.70</td>\n",
       "    </tr>\n",
       "    <tr>\n",
       "      <td>445</td>\n",
       "      <td>445</td>\n",
       "      <td>San Patricio</td>\n",
       "      <td>0</td>\n",
       "      <td>MX</td>\n",
       "      <td>1580261360</td>\n",
       "      <td>64</td>\n",
       "      <td>19.22</td>\n",
       "      <td>-104.70</td>\n",
       "      <td>76.57</td>\n",
       "      <td>5.91</td>\n",
       "    </tr>\n",
       "    <tr>\n",
       "      <td>527</td>\n",
       "      <td>527</td>\n",
       "      <td>Capitan Bado</td>\n",
       "      <td>0</td>\n",
       "      <td>PY</td>\n",
       "      <td>1580261372</td>\n",
       "      <td>65</td>\n",
       "      <td>-23.27</td>\n",
       "      <td>-55.53</td>\n",
       "      <td>76.84</td>\n",
       "      <td>6.82</td>\n",
       "    </tr>\n",
       "  </tbody>\n",
       "</table>\n",
       "</div>"
      ],
      "text/plain": [
       "     CityID          City  Cloudiness Country        Date  Humidity    Lat  \\\n",
       "5         5      Tomatlan           0      MX  1580260756        61  19.93   \n",
       "175     175      Chiredzi           0      ZW  1580261321        71 -21.05   \n",
       "243     243    Rock Sound           0      BS  1580261331        73  24.90   \n",
       "445     445  San Patricio           0      MX  1580261360        64  19.22   \n",
       "527     527  Capitan Bado           0      PY  1580261372        65 -23.27   \n",
       "\n",
       "        Lng  Max temp  Wind Speed  \n",
       "5   -105.25     74.71        3.71  \n",
       "175   31.67     70.57        1.16  \n",
       "243  -76.20     74.79        8.70  \n",
       "445 -104.70     76.57        5.91  \n",
       "527  -55.53     76.84        6.82  "
      ]
     },
     "execution_count": 6,
     "metadata": {},
     "output_type": "execute_result"
    }
   ],
   "source": [
    "hotel_df=NewData\n",
    "NewData"
   ]
  },
  {
   "cell_type": "markdown",
   "metadata": {},
   "source": [
    "### Hotel Map\n",
    "* Store into variable named `hotel_df`.\n",
    "* Add a \"Hotel Name\" column to the DataFrame.\n",
    "* Set parameters to search for hotels with 5000 meters.\n",
    "* Hit the Google Places API for each city's coordinates.\n",
    "* Store the first Hotel result into the DataFrame.\n",
    "* Plot markers on top of the heatmap."
   ]
  },
  {
   "cell_type": "code",
   "execution_count": 7,
   "metadata": {},
   "outputs": [],
   "source": [
    "HName = []\n",
    "HAddress=[]\n",
    "# function to extract hotel name\n",
    "def HotelName(Lat,Lng):\n",
    "    Radius = 5000\n",
    "    Type = \"Hotel\"\n",
    "    Coordinates =  Lat + \" , \" + Lng \n",
    "    params = {\n",
    "    \"location\": Coordinates,\n",
    "    \"radius\": Radius,\n",
    "    \"type\": Type,\n",
    "    \"key\": g_key\n",
    "    }\n",
    "    base_url = \"https://maps.googleapis.com/maps/api/place/nearbysearch/json\"\n",
    "    resp = requests.get(base_url, params=params)\n",
    "    rtext = json.loads(resp.text)\n",
    "    response = json_normalize(rtext)\n",
    "    HotelResults=json_normalize(response[\"results\"][0])\n",
    "    HName.append(HotelResults[\"name\"][1])\n",
    "    HAddress.append(HotelResults[\"vicinity\"][1])\n",
    "    \n",
    "    "
   ]
  },
  {
   "cell_type": "code",
   "execution_count": 8,
   "metadata": {},
   "outputs": [],
   "source": [
    "for index, row in NewData.iterrows():\n",
    "    HotelName(str(row['Lat']),str(row['Lng']))"
   ]
  },
  {
   "cell_type": "code",
   "execution_count": 9,
   "metadata": {},
   "outputs": [
    {
     "data": {
      "text/plain": [
       "(['Hospital de Primer Contacto Tomatlan',\n",
       "  'ZETDC',\n",
       "  'Market Place Store',\n",
       "  'Hotel Cabo Blanco',\n",
       "  'EE CEL. Sapucaia'],\n",
       " ['Independencia, Las Primaveras, Tomatlán',\n",
       "  'Chiredzi',\n",
       "  'Meridian Highway, Rock Sound',\n",
       "  'Armada y, Puerto de la Navidad SN Fracc, Fracc, Barra de Navidad',\n",
       "  'Rua Fortunato de Oliveira, 150, Coronel Sapucaia'])"
      ]
     },
     "execution_count": 9,
     "metadata": {},
     "output_type": "execute_result"
    }
   ],
   "source": [
    "HName,HAddress"
   ]
  },
  {
   "cell_type": "code",
   "execution_count": 10,
   "metadata": {},
   "outputs": [
    {
     "data": {
      "text/html": [
       "<div>\n",
       "<style scoped>\n",
       "    .dataframe tbody tr th:only-of-type {\n",
       "        vertical-align: middle;\n",
       "    }\n",
       "\n",
       "    .dataframe tbody tr th {\n",
       "        vertical-align: top;\n",
       "    }\n",
       "\n",
       "    .dataframe thead th {\n",
       "        text-align: right;\n",
       "    }\n",
       "</style>\n",
       "<table border=\"1\" class=\"dataframe\">\n",
       "  <thead>\n",
       "    <tr style=\"text-align: right;\">\n",
       "      <th></th>\n",
       "      <th>CityID</th>\n",
       "      <th>City</th>\n",
       "      <th>Hotel Name</th>\n",
       "      <th>Hotel Address</th>\n",
       "      <th>Cloudiness</th>\n",
       "      <th>Country</th>\n",
       "      <th>Date</th>\n",
       "      <th>Humidity</th>\n",
       "      <th>Lat</th>\n",
       "      <th>Lng</th>\n",
       "      <th>Max temp</th>\n",
       "      <th>Wind Speed</th>\n",
       "    </tr>\n",
       "  </thead>\n",
       "  <tbody>\n",
       "    <tr>\n",
       "      <td>5</td>\n",
       "      <td>5</td>\n",
       "      <td>Tomatlan</td>\n",
       "      <td>Hospital de Primer Contacto Tomatlan</td>\n",
       "      <td>Independencia, Las Primaveras, Tomatlán</td>\n",
       "      <td>0</td>\n",
       "      <td>MX</td>\n",
       "      <td>1580260756</td>\n",
       "      <td>61</td>\n",
       "      <td>19.93</td>\n",
       "      <td>-105.25</td>\n",
       "      <td>74.71</td>\n",
       "      <td>3.71</td>\n",
       "    </tr>\n",
       "    <tr>\n",
       "      <td>175</td>\n",
       "      <td>175</td>\n",
       "      <td>Chiredzi</td>\n",
       "      <td>ZETDC</td>\n",
       "      <td>Chiredzi</td>\n",
       "      <td>0</td>\n",
       "      <td>ZW</td>\n",
       "      <td>1580261321</td>\n",
       "      <td>71</td>\n",
       "      <td>-21.05</td>\n",
       "      <td>31.67</td>\n",
       "      <td>70.57</td>\n",
       "      <td>1.16</td>\n",
       "    </tr>\n",
       "    <tr>\n",
       "      <td>243</td>\n",
       "      <td>243</td>\n",
       "      <td>Rock Sound</td>\n",
       "      <td>Market Place Store</td>\n",
       "      <td>Meridian Highway, Rock Sound</td>\n",
       "      <td>0</td>\n",
       "      <td>BS</td>\n",
       "      <td>1580261331</td>\n",
       "      <td>73</td>\n",
       "      <td>24.90</td>\n",
       "      <td>-76.20</td>\n",
       "      <td>74.79</td>\n",
       "      <td>8.70</td>\n",
       "    </tr>\n",
       "    <tr>\n",
       "      <td>445</td>\n",
       "      <td>445</td>\n",
       "      <td>San Patricio</td>\n",
       "      <td>Hotel Cabo Blanco</td>\n",
       "      <td>Armada y, Puerto de la Navidad SN Fracc, Fracc...</td>\n",
       "      <td>0</td>\n",
       "      <td>MX</td>\n",
       "      <td>1580261360</td>\n",
       "      <td>64</td>\n",
       "      <td>19.22</td>\n",
       "      <td>-104.70</td>\n",
       "      <td>76.57</td>\n",
       "      <td>5.91</td>\n",
       "    </tr>\n",
       "    <tr>\n",
       "      <td>527</td>\n",
       "      <td>527</td>\n",
       "      <td>Capitan Bado</td>\n",
       "      <td>EE CEL. Sapucaia</td>\n",
       "      <td>Rua Fortunato de Oliveira, 150, Coronel Sapucaia</td>\n",
       "      <td>0</td>\n",
       "      <td>PY</td>\n",
       "      <td>1580261372</td>\n",
       "      <td>65</td>\n",
       "      <td>-23.27</td>\n",
       "      <td>-55.53</td>\n",
       "      <td>76.84</td>\n",
       "      <td>6.82</td>\n",
       "    </tr>\n",
       "  </tbody>\n",
       "</table>\n",
       "</div>"
      ],
      "text/plain": [
       "     CityID          City                            Hotel Name  \\\n",
       "5         5      Tomatlan  Hospital de Primer Contacto Tomatlan   \n",
       "175     175      Chiredzi                                 ZETDC   \n",
       "243     243    Rock Sound                    Market Place Store   \n",
       "445     445  San Patricio                     Hotel Cabo Blanco   \n",
       "527     527  Capitan Bado                      EE CEL. Sapucaia   \n",
       "\n",
       "                                         Hotel Address  Cloudiness Country  \\\n",
       "5              Independencia, Las Primaveras, Tomatlán           0      MX   \n",
       "175                                           Chiredzi           0      ZW   \n",
       "243                       Meridian Highway, Rock Sound           0      BS   \n",
       "445  Armada y, Puerto de la Navidad SN Fracc, Fracc...           0      MX   \n",
       "527   Rua Fortunato de Oliveira, 150, Coronel Sapucaia           0      PY   \n",
       "\n",
       "           Date  Humidity    Lat     Lng  Max temp  Wind Speed  \n",
       "5    1580260756        61  19.93 -105.25     74.71        3.71  \n",
       "175  1580261321        71 -21.05   31.67     70.57        1.16  \n",
       "243  1580261331        73  24.90  -76.20     74.79        8.70  \n",
       "445  1580261360        64  19.22 -104.70     76.57        5.91  \n",
       "527  1580261372        65 -23.27  -55.53     76.84        6.82  "
      ]
     },
     "execution_count": 10,
     "metadata": {},
     "output_type": "execute_result"
    }
   ],
   "source": [
    "hotel_df.insert(2, \"Hotel Name\", HName, True) \n",
    "hotel_df.insert(3, \"Hotel Address\", HAddress, True)\n",
    "hotel_df"
   ]
  },
  {
   "cell_type": "code",
   "execution_count": 11,
   "metadata": {},
   "outputs": [
    {
     "data": {
      "application/vnd.jupyter.widget-view+json": {
       "model_id": "bec2f591e9274cd6ab13b9706652fca1",
       "version_major": 2,
       "version_minor": 0
      },
      "text/plain": [
       "Figure(layout=FigureLayout(height='420px'))"
      ]
     },
     "metadata": {},
     "output_type": "display_data"
    }
   ],
   "source": [
    "# Create a Hotels\n",
    "# Store 'Lat' and 'Lng' into  locations \n",
    "HLocations = hotel_df[[\"Lat\", \"Lng\"]].astype(float)\n",
    "HumidityValue = weather_data[\"Humidity\"].astype(float)\n",
    "HumidityMax=weather_data[\"Humidity\"].max()\n",
    "\n",
    "HotelLocator = gmaps.figure()\n",
    "\n",
    "HHLayer = gmaps.heatmap_layer(locations, weights=HumidityValue, \n",
    "                                 dissipating=False, max_intensity=HumidityMax,\n",
    "                                 point_radius = 1)\n",
    "\n",
    "HotelLocator.add_layer(HHLayer)\n",
    "HotelLocator"
   ]
  },
  {
   "cell_type": "code",
   "execution_count": 12,
   "metadata": {},
   "outputs": [],
   "source": [
    "# NOTE: Do not change any of the code in this cell\n",
    "\n",
    "# Using the template add the hotel marks to the heatmap\n",
    "info_box_template = \"\"\"\n",
    "<dl>\n",
    "<dt>Name</dt><dd>{Hotel Name}</dd>\n",
    "<dt>City</dt><dd>{City}</dd>\n",
    "<dt>Country</dt><dd>{Country}</dd>\n",
    "</dl>\n",
    "\"\"\"\n",
    "hotel_info = [info_box_template.format(**row) for index, row in hotel_df.iterrows()]\n",
    "InfoTemplate = [info_box_template.format(**row) for index, row in hotel_df.iterrows()]\n",
    "# Store the DataFrame Row\n",
    "# NOTE: be sure to update with your DataFrame name\n"
   ]
  },
  {
   "cell_type": "code",
   "execution_count": 13,
   "metadata": {},
   "outputs": [],
   "source": [
    "# Add marker layer ontop of heat map\n",
    "# Create a Hotels\n",
    "# Store 'Lat' and 'Lng' into  locations \n",
    "#info_box_template = \"\"\"\n",
    "\n",
    "\n",
    "# Display Map"
   ]
  },
  {
   "cell_type": "code",
   "execution_count": 14,
   "metadata": {},
   "outputs": [
    {
     "data": {
      "application/vnd.jupyter.widget-view+json": {
       "model_id": "bec2f591e9274cd6ab13b9706652fca1",
       "version_major": 2,
       "version_minor": 0
      },
      "text/plain": [
       "Figure(layout=FigureLayout(height='420px'))"
      ]
     },
     "metadata": {},
     "output_type": "display_data"
    }
   ],
   "source": [
    "HoverMarker=np.array(hotel_df[\"City\"])\n",
    "HotelMarker_Layer=gmaps.marker_layer(HLocations,info_box_content=InfoTemplate,display_info_box=True)\n",
    "HotelLocator.add_layer(HotelMarker_Layer)\n",
    "\n",
    "\n",
    "# Display Map\n",
    "HotelLocator"
   ]
  },
  {
   "cell_type": "code",
   "execution_count": null,
   "metadata": {},
   "outputs": [],
   "source": []
  },
  {
   "cell_type": "code",
   "execution_count": null,
   "metadata": {},
   "outputs": [],
   "source": []
  }
 ],
 "metadata": {
  "kernelspec": {
   "display_name": "Python 3",
   "language": "python",
   "name": "python3"
  },
  "language_info": {
   "codemirror_mode": {
    "name": "ipython",
    "version": 3
   },
   "file_extension": ".py",
   "mimetype": "text/x-python",
   "name": "python",
   "nbconvert_exporter": "python",
   "pygments_lexer": "ipython3",
   "version": "3.7.4"
  },
  "latex_envs": {
   "LaTeX_envs_menu_present": true,
   "autoclose": false,
   "autocomplete": true,
   "bibliofile": "biblio.bib",
   "cite_by": "apalike",
   "current_citInitial": 1,
   "eqLabelWithNumbers": true,
   "eqNumInitial": 1,
   "hotkeys": {
    "equation": "Ctrl-E",
    "itemize": "Ctrl-I"
   },
   "labels_anchors": false,
   "latex_user_defs": false,
   "report_style_numbering": false,
   "user_envs_cfg": false
  }
 },
 "nbformat": 4,
 "nbformat_minor": 2
}
